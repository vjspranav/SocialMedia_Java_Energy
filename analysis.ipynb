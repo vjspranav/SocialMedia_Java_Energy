{
 "cells": [
  {
   "cell_type": "code",
   "execution_count": 3,
   "metadata": {},
   "outputs": [],
   "source": [
    "import os\n",
    "import pandas as pd\n",
    "\n",
    "# Define the paths for singleton and pattern versions\n",
    "singleton_paths = [f\"./results/singleton/run_SocialMediaApp_{i}\" for i in range(1, 6)]\n",
    "pattern_paths = [f\"./results/patterns/run_com.socialmedia.Main_{i}\" for i in range(1, 6)]"
   ]
  },
  {
   "cell_type": "code",
   "execution_count": 15,
   "metadata": {},
   "outputs": [],
   "source": [
    "# In each path we read path/all/total/methods/{some_file}.csv\n",
    "# We want to merge all singletons in one dataframe and all patterns in another\n",
    "\n",
    "# Singleton\n",
    "singleton_dfs = []\n",
    "for path in singleton_paths:\n",
    "    for file in os.listdir(f\"{path}/all/total/methods\"):\n",
    "        # there are no column headers in the csv files\n",
    "        df = pd.read_csv(f\"{path}/all/total/methods/{file}\", names=[\"method\", \"energy\"])\n",
    "        df[\"run\"] = path.split(\"_\")[-1]\n",
    "        singleton_dfs.append(df)\n",
    "singleton_df = pd.concat(singleton_dfs)\n",
    "\n",
    "# Pattern\n",
    "pattern_dfs = []\n",
    "for path in pattern_paths:\n",
    "    for file in os.listdir(f\"{path}/all/total/methods\"):\n",
    "        df = pd.read_csv(f\"{path}/all/total/methods/{file}\", names=[\"method\", \"energy\"])\n",
    "        df[\"run\"] = path.split(\"_\")[-1]\n",
    "        pattern_dfs.append(df)\n",
    "pattern_df = pd.concat(pattern_dfs)\n"
   ]
  },
  {
   "cell_type": "code",
   "execution_count": 19,
   "metadata": {},
   "outputs": [],
   "source": [
    "# For all dfs in singleton_df, average the energy for each method and store in a new df\n",
    "singleton_df = singleton_df.groupby([\"method\"]).mean().reset_index()\n",
    "\n",
    "# For all dfs in pattern_df, average the energy for each method and store in a new df\n",
    "pattern_df = pattern_df.groupby([\"method\"]).mean().reset_index()"
   ]
  },
  {
   "cell_type": "code",
   "execution_count": 22,
   "metadata": {},
   "outputs": [
    {
     "name": "stdout",
     "output_type": "stream",
     "text": [
      "Singleton\n",
      "14.49663\n",
      "Pattern\n",
      "17.696830000000002\n"
     ]
    }
   ],
   "source": [
    "# Print total energy for each pattern\n",
    "print(\"Singleton\")\n",
    "print(singleton_df[\"energy\"].sum())\n",
    "print(\"Pattern\")\n",
    "print(pattern_df[\"energy\"].sum())\n"
   ]
  },
  {
   "cell_type": "code",
   "execution_count": null,
   "metadata": {},
   "outputs": [],
   "source": []
  }
 ],
 "metadata": {
  "kernelspec": {
   "display_name": "Python 3",
   "language": "python",
   "name": "python3"
  },
  "language_info": {
   "codemirror_mode": {
    "name": "ipython",
    "version": 3
   },
   "file_extension": ".py",
   "mimetype": "text/x-python",
   "name": "python",
   "nbconvert_exporter": "python",
   "pygments_lexer": "ipython3",
   "version": "3.11.3"
  },
  "orig_nbformat": 4
 },
 "nbformat": 4,
 "nbformat_minor": 2
}
